{
  "nbformat": 4,
  "nbformat_minor": 0,
  "metadata": {
    "kernelspec": {
      "display_name": "Python 3",
      "language": "python",
      "name": "python3"
    },
    "language_info": {
      "codemirror_mode": {
        "name": "ipython",
        "version": 3
      },
      "file_extension": ".py",
      "mimetype": "text/x-python",
      "name": "python",
      "nbconvert_exporter": "python",
      "pygments_lexer": "ipython3",
      "version": "3.8.3"
    },
    "colab": {
      "name": "Sentiment_Analysis_with_CNN_v05.ipynb",
      "provenance": [],
      "include_colab_link": true
    },
    "accelerator": "GPU"
  },
  "cells": [
    {
      "cell_type": "markdown",
      "metadata": {
        "id": "view-in-github",
        "colab_type": "text"
      },
      "source": [
        "<a href=\"https://colab.research.google.com/github/alexweltgeist/twitter_bitcoin/blob/main/Sentiment_Analysis_with_CNN_v05.ipynb\" target=\"_parent\"><img src=\"https://colab.research.google.com/assets/colab-badge.svg\" alt=\"Open In Colab\"/></a>"
      ]
    },
    {
      "cell_type": "code",
      "metadata": {
        "id": "YB6-pN3IuIVL"
      },
      "source": [
        "!pip install textsearch\n",
        "import nltk\n",
        "nltk.download('punkt')"
      ],
      "execution_count": null,
      "outputs": []
    },
    {
      "cell_type": "code",
      "metadata": {
        "id": "LAUVH8RfuIVQ"
      },
      "source": [
        "import pandas as pd\n",
        "import numpy as np\n",
        "from tensorflow.keras.models import Sequential\n",
        "from tensorflow.keras.layers import Dense\n",
        "from tensorflow.keras.layers import Flatten\n",
        "from tensorflow.keras.layers import Conv1D\n",
        "from tensorflow.keras.layers import MaxPooling1D\n",
        "from tensorflow.keras.layers import Embedding\n",
        "from tensorflow.keras.preprocessing.text import Tokenizer\n",
        "from tensorflow.keras.preprocessing import sequence\n",
        "from sklearn.preprocessing import LabelEncoder\n",
        "import tensorflow as tf"
      ],
      "execution_count": null,
      "outputs": []
    },
    {
      "cell_type": "code",
      "metadata": {
        "id": "rp3h8dPru5Sw",
        "colab": {
          "base_uri": "https://localhost:8080/"
        },
        "outputId": "e6f8a90b-81f5-42aa-a609-e4b64c9bf314"
      },
      "source": [
        "# Import Training Data from Github\n",
        "url = 'https://raw.githubusercontent.com/alexweltgeist/twitter_bitcoin/main/all_tweets_with_lable_final.csv'\n",
        "dataset = pd.read_csv(url)\n",
        "dataset = dataset[dataset['lable'] != 'Neutral']\n",
        "print(dataset.count())\n",
        "print(dataset.head(5))"
      ],
      "execution_count": null,
      "outputs": [
        {
          "output_type": "stream",
          "text": [
            "text     16501\n",
            "lable    16501\n",
            "dtype: int64\n",
            "                                                text     lable\n",
            "1  RT @BitcoinMagazine: Elon Musk taking a honest...  Positive\n",
            "2  RT @Daily_Swap: Remember in 2008 and 2009, the...  Positive\n",
            "3  Breaking news !!!sent 3.000 #doge got back 30....  Positive\n",
            "5  Thanks #doge!! + 105 000 instant ! Amazing $do...  Positive\n",
            "6  It's an amazing project. Keep it up. I have pa...  Positive\n"
          ],
          "name": "stdout"
        }
      ]
    },
    {
      "cell_type": "code",
      "metadata": {
        "colab": {
          "base_uri": "https://localhost:8080/",
          "height": 54
        },
        "id": "O7KSDJ7_uIVR",
        "outputId": "00fe4ac8-40f7-42a1-c304-46cf0cc60a03"
      },
      "source": [
        "'''\n",
        "# mount google drive\n",
        "from google.colab import drive\n",
        "drive.mount('/content/drive')\n",
        "\n",
        "#work with file stored on colab workspace\n",
        "dataset = pd.read_csv('/content/all_tweets_with_lable.csv', sep=',', header = 0)\n",
        "dataset = dataset[dataset['lable'] != 'Neutral']\n",
        "dataset.head()\n",
        "#dataset.count()\n",
        "'''"
      ],
      "execution_count": null,
      "outputs": [
        {
          "output_type": "execute_result",
          "data": {
            "application/vnd.google.colaboratory.intrinsic+json": {
              "type": "string"
            },
            "text/plain": [
              "\"\\n# mount google drive\\nfrom google.colab import drive\\ndrive.mount('/content/drive')\\n\\n#work with file stored on colab workspace\\ndataset = pd.read_csv('/content/all_tweets_with_lable.csv', sep=',', header = 0)\\ndataset = dataset[dataset['lable'] != 'Neutral']\\ndataset.head()\\n#dataset.count()\\n\""
            ]
          },
          "metadata": {
            "tags": []
          },
          "execution_count": 30
        }
      ]
    },
    {
      "cell_type": "code",
      "metadata": {
        "id": "nNZRXB6E-3gg",
        "colab": {
          "base_uri": "https://localhost:8080/"
        },
        "outputId": "cc9b91ff-3bd9-455e-a6ec-d0ec900a4eb4"
      },
      "source": [
        "total_rows = dataset.count\n",
        "print (total_rows)"
      ],
      "execution_count": null,
      "outputs": [
        {
          "output_type": "stream",
          "text": [
            "<bound method DataFrame.count of                                                     text     lable\n",
            "1      RT @BitcoinMagazine: Elon Musk taking a honest...  Positive\n",
            "2      RT @Daily_Swap: Remember in 2008 and 2009, the...  Positive\n",
            "3      Breaking news !!!sent 3.000 #doge got back 30....  Positive\n",
            "5      Thanks #doge!! + 105 000 instant ! Amazing $do...  Positive\n",
            "6      It's an amazing project. Keep it up. I have pa...  Positive\n",
            "...                                                  ...       ...\n",
            "25710  RT @michael_saylor: Honesty is the first chapt...  Positive\n",
            "25711                     Loco curious about bitcoin lol  Negative\n",
            "25713  RT @open4crypto: Right now stay away from mark...  Positive\n",
            "25714  4/ Real friends: This reminds me of toxic #Bit...  Positive\n",
            "25715  RT @WincustodiTwo: Hey, FAM check out my new d...  Positive\n",
            "\n",
            "[16501 rows x 2 columns]>\n"
          ],
          "name": "stdout"
        }
      ]
    },
    {
      "cell_type": "code",
      "metadata": {
        "id": "ZWZDeB0IuIVS"
      },
      "source": [
        "# build train and test datasets\n",
        "reviews = dataset['text'].values\n",
        "sentiments = dataset['lable'].values\n",
        "\n",
        "train_reviews = reviews[:13000]\n",
        "train_sentiments = sentiments[:13000]\n",
        "\n",
        "test_reviews = reviews[13001:]\n",
        "test_sentiments = sentiments[13001:]"
      ],
      "execution_count": null,
      "outputs": []
    },
    {
      "cell_type": "code",
      "metadata": {
        "id": "G7U0uYWSuIVT"
      },
      "source": [
        "from bs4 import BeautifulSoup\n",
        "import numpy as np\n",
        "import re\n",
        "import tqdm\n",
        "import unicodedata\n",
        "\n",
        "def remove_accented_chars(text):\n",
        "    text = unicodedata.normalize('NFKD', text).encode('ascii', 'ignore').decode('utf-8', 'ignore')\n",
        "    return text\n",
        "\n",
        "def pre_process_corpus(docs):\n",
        "    norm_docs = []\n",
        "    for doc in docs:\n",
        "        doc = doc.translate(doc.maketrans(\"\\n\\t\\r\", \"   \"))\n",
        "        doc = doc.lower()\n",
        "        doc = remove_accented_chars(doc)\n",
        "        # lower case and remove special characters\\whitespaces\n",
        "        doc = re.sub(r'[^a-zA-Z0-9\\s]', '', doc, flags=re.I|re.A)\n",
        "        doc = re.sub(' +', ' ', doc) # the    dog  => the dog\n",
        "        doc = doc.strip() \n",
        "        norm_docs.append(doc)\n",
        "    return norm_docs"
      ],
      "execution_count": null,
      "outputs": []
    },
    {
      "cell_type": "code",
      "metadata": {
        "id": "eOj40S9muIVU"
      },
      "source": [
        "norm_train_reviews = pre_process_corpus(train_reviews)\n",
        "norm_test_reviews = pre_process_corpus(test_reviews)"
      ],
      "execution_count": null,
      "outputs": []
    },
    {
      "cell_type": "code",
      "metadata": {
        "id": "mlRUXN6NuIVU"
      },
      "source": [
        "t = Tokenizer(oov_token='<UNK>')\n",
        "# fit the tokenizer on the documents\n",
        "t.fit_on_texts(norm_train_reviews)\n",
        "t.word_index['<PAD>'] = 0"
      ],
      "execution_count": null,
      "outputs": []
    },
    {
      "cell_type": "code",
      "metadata": {
        "colab": {
          "base_uri": "https://localhost:8080/"
        },
        "id": "3Y5t5gSGuIVV",
        "outputId": "02e76ed2-c4b8-490b-9ba8-a2fdf237598e"
      },
      "source": [
        "max([(k, v) for k, v in t.word_index.items()], key = lambda x:x[1]), min([(k, v) for k, v in t.word_index.items()], key = lambda x:x[1]), t.word_index['<UNK>']"
      ],
      "execution_count": null,
      "outputs": [
        {
          "output_type": "execute_result",
          "data": {
            "text/plain": [
              "(('bitritch', 12370), ('<PAD>', 0), 1)"
            ]
          },
          "metadata": {
            "tags": []
          },
          "execution_count": 37
        }
      ]
    },
    {
      "cell_type": "code",
      "metadata": {
        "id": "-DN8Od0TuIVW"
      },
      "source": [
        "train_sequences = t.texts_to_sequences(norm_train_reviews)\n",
        "test_sequences = t.texts_to_sequences(norm_test_reviews)"
      ],
      "execution_count": null,
      "outputs": []
    },
    {
      "cell_type": "code",
      "metadata": {
        "id": "pS7brxhRCf3F",
        "colab": {
          "base_uri": "https://localhost:8080/"
        },
        "outputId": "008b6fbc-5147-483b-f396-b02d353f5c03"
      },
      "source": [
        "print(train_sequences[0])\n",
        "print(len(train_sequences[0]))"
      ],
      "execution_count": null,
      "outputs": [
        {
          "output_type": "stream",
          "text": [
            "[2, 158, 26, 36, 781, 10, 726, 327, 59, 3, 168, 266]\n",
            "12\n"
          ],
          "name": "stdout"
        }
      ]
    },
    {
      "cell_type": "code",
      "metadata": {
        "colab": {
          "base_uri": "https://localhost:8080/"
        },
        "id": "-jL2MHLnuIVX",
        "outputId": "4bef2cbf-ea57-4a69-f401-5e77b21d93c7"
      },
      "source": [
        "print(\"Vocabulary size={}\".format(len(t.word_index)))\n",
        "print(\"Number of Documents={}\".format(t.document_count))"
      ],
      "execution_count": null,
      "outputs": [
        {
          "output_type": "stream",
          "text": [
            "Vocabulary size=12371\n",
            "Number of Documents=13000\n"
          ],
          "name": "stdout"
        }
      ]
    },
    {
      "cell_type": "code",
      "metadata": {
        "colab": {
          "base_uri": "https://localhost:8080/",
          "height": 374
        },
        "id": "LQpj7SZ2uIVX",
        "outputId": "9579b3d9-ac95-45ec-8a65-f61f73935cad"
      },
      "source": [
        "import matplotlib.pyplot as plt\n",
        "%matplotlib inline\n",
        "\n",
        "train_lens = [len(s) for s in train_sequences]\n",
        "\n",
        "fig, ax = plt.subplots(1,1, figsize=(12, 6))\n",
        "h1 = ax.hist(train_lens)"
      ],
      "execution_count": null,
      "outputs": [
        {
          "output_type": "display_data",
          "data": {
            "image/png": "[encoded data removed]",
            "text/plain": [
              "<Figure size 864x432 with 1 Axes>"
            ]
          },
          "metadata": {
            "tags": [],
            "needs_background": "light"
          }
        }
      ]
    },
    {
      "cell_type": "code",
      "metadata": {
        "id": "Lxw2B9HUuIVY"
      },
      "source": [
        "MAX_SEQUENCE_LENGTH = 26"
      ],
      "execution_count": null,
      "outputs": []
    },
    {
      "cell_type": "code",
      "metadata": {
        "colab": {
          "base_uri": "https://localhost:8080/"
        },
        "id": "4nyPAr8buIVY",
        "outputId": "7125168a-3f09-4233-c8b6-0aedd6af9ae4"
      },
      "source": [
        "# pad dataset to a maximum review length in words\n",
        "X_train = sequence.pad_sequences(train_sequences, maxlen=MAX_SEQUENCE_LENGTH)\n",
        "X_test = sequence.pad_sequences(test_sequences, maxlen=MAX_SEQUENCE_LENGTH)\n",
        "X_train.shape, X_test.shape"
      ],
      "execution_count": null,
      "outputs": [
        {
          "output_type": "execute_result",
          "data": {
            "text/plain": [
              "((13000, 26), (3500, 26))"
            ]
          },
          "metadata": {
            "tags": []
          },
          "execution_count": 43
        }
      ]
    },
    {
      "cell_type": "code",
      "metadata": {
        "id": "9L0Nw6ITDDT4",
        "colab": {
          "base_uri": "https://localhost:8080/"
        },
        "outputId": "67c2a20d-bc1b-420f-9e0f-25ab7ce5cea6"
      },
      "source": [
        "X_train[0]"
      ],
      "execution_count": null,
      "outputs": [
        {
          "output_type": "execute_result",
          "data": {
            "text/plain": [
              "array([  0,   0,   0,   0,   0,   0,   0,   0,   0,   0,   0,   0,   0,\n",
              "         0,   2, 158,  26,  36, 781,  10, 726, 327,  59,   3, 168, 266],\n",
              "      dtype=int32)"
            ]
          },
          "metadata": {
            "tags": []
          },
          "execution_count": 44
        }
      ]
    },
    {
      "cell_type": "code",
      "metadata": {
        "id": "GFFhUst3uIVZ"
      },
      "source": [
        "le = LabelEncoder()\n",
        "num_classes=2 # positive -> 1, negative -> 0"
      ],
      "execution_count": null,
      "outputs": []
    },
    {
      "cell_type": "code",
      "metadata": {
        "colab": {
          "base_uri": "https://localhost:8080/"
        },
        "id": "6kiqyBs_Z3lH",
        "outputId": "2971aad6-b0e7-4bd2-f105-f4ee0085e84b"
      },
      "source": [
        "le.fit(train_sentiments)\n",
        "list(le.classes_)"
      ],
      "execution_count": null,
      "outputs": [
        {
          "output_type": "execute_result",
          "data": {
            "text/plain": [
              "['Negative', 'Positive']"
            ]
          },
          "metadata": {
            "tags": []
          },
          "execution_count": 46
        }
      ]
    },
    {
      "cell_type": "code",
      "metadata": {
        "id": "Dt-qKec0uIVZ"
      },
      "source": [
        "y_train = le.transform(train_sentiments)\n",
        "y_test = le.transform(test_sentiments)"
      ],
      "execution_count": null,
      "outputs": []
    },
    {
      "cell_type": "code",
      "metadata": {
        "id": "OpVW8qJZmICc",
        "colab": {
          "base_uri": "https://localhost:8080/"
        },
        "outputId": "31f79d67-2388-47d1-ca1a-9a885a271ad4"
      },
      "source": [
        "print(y_train)\n",
        "print(len(y_train))\n",
        "print(y_test)\n",
        "print(len(y_test))"
      ],
      "execution_count": null,
      "outputs": [
        {
          "output_type": "stream",
          "text": [
            "[1 1 1 ... 1 0 1]\n",
            "13000\n",
            "[1 1 0 ... 1 1 1]\n",
            "3500\n"
          ],
          "name": "stdout"
        }
      ]
    },
    {
      "cell_type": "markdown",
      "metadata": {
        "id": "uin2EoIiuIVa"
      },
      "source": [
        "Prepare the Model"
      ]
    },
    {
      "cell_type": "code",
      "metadata": {
        "id": "sN5mDcKuuIVa"
      },
      "source": [
        "VOCAB_SIZE = len(t.word_index)"
      ],
      "execution_count": null,
      "outputs": []
    },
    {
      "cell_type": "code",
      "metadata": {
        "id": "qx65ufOiIgDU",
        "colab": {
          "base_uri": "https://localhost:8080/"
        },
        "outputId": "9c7455cc-dd37-4f39-d417-ff08fb8797c2"
      },
      "source": [
        "VOCAB_SIZE"
      ],
      "execution_count": null,
      "outputs": [
        {
          "output_type": "execute_result",
          "data": {
            "text/plain": [
              "12371"
            ]
          },
          "metadata": {
            "tags": []
          },
          "execution_count": 50
        }
      ]
    },
    {
      "cell_type": "code",
      "metadata": {
        "id": "D0Z3LX_1uIVb"
      },
      "source": [
        "EMBED_SIZE = 100\n",
        "EPOCHS=15\n",
        "BATCH_SIZE=128"
      ],
      "execution_count": null,
      "outputs": []
    },
    {
      "cell_type": "code",
      "metadata": {
        "colab": {
          "base_uri": "https://localhost:8080/"
        },
        "id": "U8mu20ZUuIVb",
        "outputId": "2105fe33-9920-4217-a5fe-5ffce4a7d42d"
      },
      "source": [
        "# create the model\n",
        "model = Sequential()\n",
        "\n",
        "model.add(Embedding(VOCAB_SIZE, \n",
        "                    EMBED_SIZE, \n",
        "                    input_length=MAX_SEQUENCE_LENGTH))\n",
        "\n",
        "model.add(Conv1D(filters=128, kernel_size=4, padding='same', activation='relu'))\n",
        "model.add(MaxPooling1D(pool_size=2))\n",
        "\n",
        "model.add(Conv1D(filters=64, kernel_size=4, padding='same', activation='relu'))\n",
        "model.add(MaxPooling1D(pool_size=2))\n",
        "\n",
        "model.add(Conv1D(filters=32, kernel_size=4, padding='same', activation='relu'))\n",
        "model.add(MaxPooling1D(pool_size=2))\n",
        "\n",
        "model.add(Flatten())\n",
        "\n",
        "model.add(tf.keras.layers.Dense(256, activation='relu'))\n",
        "model.add(tf.keras.layers.Dropout(0.25))\n",
        "model.add(tf.keras.layers.Dense(256, activation='relu'))\n",
        "model.add(tf.keras.layers.Dropout(0.25))\n",
        "model.add(tf.keras.layers.Dense(1, activation='sigmoid'))\n",
        "\n",
        "model.compile(loss='binary_crossentropy', optimizer='adam', metrics=['accuracy'])\n",
        "model.summary()"
      ],
      "execution_count": null,
      "outputs": [
        {
          "output_type": "stream",
          "text": [
            "Model: \"sequential\"\n",
            "_________________________________________________________________\n",
            "Layer (type)                 Output Shape              Param #   \n",
            "=================================================================\n",
            "embedding (Embedding)        (None, 26, 100)           1237100   \n",
            "_________________________________________________________________\n",
            "conv1d (Conv1D)              (None, 26, 128)           51328     \n",
            "_________________________________________________________________\n",
            "max_pooling1d (MaxPooling1D) (None, 13, 128)           0         \n",
            "_________________________________________________________________\n",
            "conv1d_1 (Conv1D)            (None, 13, 64)            32832     \n",
            "_________________________________________________________________\n",
            "max_pooling1d_1 (MaxPooling1 (None, 6, 64)             0         \n",
            "_________________________________________________________________\n",
            "conv1d_2 (Conv1D)            (None, 6, 32)             8224      \n",
            "_________________________________________________________________\n",
            "max_pooling1d_2 (MaxPooling1 (None, 3, 32)             0         \n",
            "_________________________________________________________________\n",
            "flatten (Flatten)            (None, 96)                0         \n",
            "_________________________________________________________________\n",
            "dense (Dense)                (None, 256)               24832     \n",
            "_________________________________________________________________\n",
            "dropout (Dropout)            (None, 256)               0         \n",
            "_________________________________________________________________\n",
            "dense_1 (Dense)              (None, 256)               65792     \n",
            "_________________________________________________________________\n",
            "dropout_1 (Dropout)          (None, 256)               0         \n",
            "_________________________________________________________________\n",
            "dense_2 (Dense)              (None, 1)                 257       \n",
            "=================================================================\n",
            "Total params: 1,420,365\n",
            "Trainable params: 1,420,365\n",
            "Non-trainable params: 0\n",
            "_________________________________________________________________\n"
          ],
          "name": "stdout"
        }
      ]
    },
    {
      "cell_type": "markdown",
      "metadata": {
        "id": "txkAk3pkuIVc"
      },
      "source": [
        "Model Training"
      ]
    },
    {
      "cell_type": "code",
      "metadata": {
        "colab": {
          "base_uri": "https://localhost:8080/"
        },
        "id": "UhLhEwSwuIVc",
        "outputId": "14972bb5-00f1-404a-f22c-5fb1a9cde13f"
      },
      "source": [
        "# callbacks\n",
        "es = tf.keras.callbacks.EarlyStopping(monitor='val_loss', \n",
        "                                      patience=2,\n",
        "                                      restore_best_weights=True,\n",
        "                                      verbose=1)\n",
        "\n",
        "# Fit the model\n",
        "history = model.fit(X_train, y_train, \n",
        "          validation_split=0.1,\n",
        "          epochs=EPOCHS, \n",
        "          batch_size=BATCH_SIZE,\n",
        " #         callbacks=[es], \n",
        "          verbose=1)"
      ],
      "execution_count": null,
      "outputs": [
        {
          "output_type": "stream",
          "text": [
            "Epoch 1/15\n",
            "92/92 [==============================] - 34s 21ms/step - loss: 0.2775 - accuracy: 0.8703 - val_loss: 0.2371 - val_accuracy: 0.9038\n",
            "Epoch 2/15\n",
            "92/92 [==============================] - 1s 16ms/step - loss: 0.0408 - accuracy: 0.9856 - val_loss: 0.2325 - val_accuracy: 0.9015\n",
            "Epoch 3/15\n",
            "92/92 [==============================] - 2s 17ms/step - loss: 0.0059 - accuracy: 0.9980 - val_loss: 0.3585 - val_accuracy: 0.9046\n",
            "Epoch 4/15\n",
            "92/92 [==============================] - 2s 17ms/step - loss: 0.0018 - accuracy: 0.9992 - val_loss: 0.4509 - val_accuracy: 0.9038\n",
            "Epoch 5/15\n",
            "92/92 [==============================] - 2s 16ms/step - loss: 0.0036 - accuracy: 0.9987 - val_loss: 0.4641 - val_accuracy: 0.8808\n",
            "Epoch 6/15\n",
            "92/92 [==============================] - 2s 17ms/step - loss: 0.0035 - accuracy: 0.9993 - val_loss: 0.4447 - val_accuracy: 0.9000\n",
            "Epoch 7/15\n",
            "92/92 [==============================] - 2s 16ms/step - loss: 6.8295e-04 - accuracy: 0.9997 - val_loss: 0.5341 - val_accuracy: 0.9108\n",
            "Epoch 8/15\n",
            "92/92 [==============================] - 2s 17ms/step - loss: 0.0017 - accuracy: 0.9997 - val_loss: 0.6757 - val_accuracy: 0.9100\n",
            "Epoch 9/15\n",
            "92/92 [==============================] - 2s 17ms/step - loss: 1.1796e-04 - accuracy: 1.0000 - val_loss: 0.7476 - val_accuracy: 0.9092\n",
            "Epoch 10/15\n",
            "92/92 [==============================] - 2s 17ms/step - loss: 1.4769e-05 - accuracy: 1.0000 - val_loss: 0.7481 - val_accuracy: 0.9115\n",
            "Epoch 11/15\n",
            "92/92 [==============================] - 2s 17ms/step - loss: 1.1085e-05 - accuracy: 1.0000 - val_loss: 0.7740 - val_accuracy: 0.9123\n",
            "Epoch 12/15\n",
            "92/92 [==============================] - 2s 17ms/step - loss: 3.5069e-06 - accuracy: 1.0000 - val_loss: 0.7897 - val_accuracy: 0.9108\n",
            "Epoch 13/15\n",
            "92/92 [==============================] - 2s 17ms/step - loss: 2.7973e-06 - accuracy: 1.0000 - val_loss: 0.8091 - val_accuracy: 0.9115\n",
            "Epoch 14/15\n",
            "92/92 [==============================] - 2s 17ms/step - loss: 1.9405e-06 - accuracy: 1.0000 - val_loss: 0.8265 - val_accuracy: 0.9115\n",
            "Epoch 15/15\n",
            "92/92 [==============================] - 2s 16ms/step - loss: 2.2158e-06 - accuracy: 1.0000 - val_loss: 0.8443 - val_accuracy: 0.9115\n"
          ],
          "name": "stdout"
        }
      ]
    },
    {
      "cell_type": "code",
      "metadata": {
        "id": "hqiMLdmjsnjd",
        "colab": {
          "base_uri": "https://localhost:8080/",
          "height": 313
        },
        "outputId": "ad3ecd6c-6fde-4f50-f99b-f820953c699e"
      },
      "source": [
        "# plot the development of the accuracy and loss during training\n",
        "plt.figure(figsize=(12,4))\n",
        "plt.subplot(1,2,(1))\n",
        "plt.plot(history.history['accuracy'],linestyle='-.')\n",
        "plt.plot(history.history['val_accuracy'])\n",
        "plt.title('model accuracy')\n",
        "plt.ylabel('accuracy')\n",
        "plt.xlabel('epoch')\n",
        "plt.legend(['train', 'valid'], loc='lower right')\n",
        "plt.subplot(1,2,(2))\n",
        "plt.plot(history.history['loss'],linestyle='-.')\n",
        "plt.plot(history.history['val_loss'])\n",
        "plt.title('model loss')\n",
        "plt.ylabel('loss')\n",
        "plt.xlabel('epoch')\n",
        "plt.legend(['train', 'valid'], loc='upper right')"
      ],
      "execution_count": null,
      "outputs": [
        {
          "output_type": "execute_result",
          "data": {
            "text/plain": [
              "<matplotlib.legend.Legend at 0x7faa45a6fc10>"
            ]
          },
          "metadata": {
            "tags": []
          },
          "execution_count": 54
        },
        {
          "output_type": "display_data",
          "data": {
            "image/png": "[encoded data removed]",
            "text/plain": [
              "<Figure size 864x288 with 2 Axes>"
            ]
          },
          "metadata": {
            "tags": [],
            "needs_background": "light"
          }
        }
      ]
    },
    {
      "cell_type": "markdown",
      "metadata": {
        "id": "vrR7zpxZuIVd"
      },
      "source": [
        "Model Evaluation"
      ]
    },
    {
      "cell_type": "code",
      "metadata": {
        "colab": {
          "base_uri": "https://localhost:8080/"
        },
        "id": "dxpud7znuIVd",
        "outputId": "8aab7682-811d-4fc0-be1e-a3d9bf7377b5"
      },
      "source": [
        "# Final evaluation of the model\n",
        "scores = model.evaluate(X_test, y_test, verbose=1)\n",
        "print(\"Accuracy: %.2f%%\" % (scores[1]*100))"
      ],
      "execution_count": null,
      "outputs": [
        {
          "output_type": "stream",
          "text": [
            "110/110 [==============================] - 0s 3ms/step - loss: 0.9828 - accuracy: 0.8897\n",
            "Accuracy: 88.97%\n"
          ],
          "name": "stdout"
        }
      ]
    },
    {
      "cell_type": "code",
      "metadata": {
        "id": "zD-oqoRWgHte",
        "colab": {
          "base_uri": "https://localhost:8080/"
        },
        "outputId": "5695a010-b787-4b65-e678-f20315cae463"
      },
      "source": [
        "predictions = model.predict(X_test)\n",
        "predictions[200:210]"
      ],
      "execution_count": null,
      "outputs": [
        {
          "output_type": "execute_result",
          "data": {
            "text/plain": [
              "array([[9.99998927e-01],\n",
              "       [1.00000000e+00],\n",
              "       [9.93331015e-01],\n",
              "       [4.14989557e-07],\n",
              "       [8.23818922e-01],\n",
              "       [1.11231575e-05],\n",
              "       [6.56515766e-08],\n",
              "       [1.00000000e+00],\n",
              "       [1.00000000e+00],\n",
              "       [1.00000000e+00]], dtype=float32)"
            ]
          },
          "metadata": {
            "tags": []
          },
          "execution_count": 56
        }
      ]
    },
    {
      "cell_type": "code",
      "metadata": {
        "colab": {
          "base_uri": "https://localhost:8080/"
        },
        "id": "G8j1iTBmuIVe",
        "outputId": "b4342650-a4b6-4cd6-afb6-d171175ce5a6"
      },
      "source": [
        "predictions = ['Positive' if item == 1 else 'Negative' for item in predictions]\n",
        "predictions[:10]"
      ],
      "execution_count": null,
      "outputs": [
        {
          "output_type": "execute_result",
          "data": {
            "text/plain": [
              "['Negative',\n",
              " 'Negative',\n",
              " 'Negative',\n",
              " 'Positive',\n",
              " 'Positive',\n",
              " 'Negative',\n",
              " 'Positive',\n",
              " 'Positive',\n",
              " 'Positive',\n",
              " 'Negative']"
            ]
          },
          "metadata": {
            "tags": []
          },
          "execution_count": 57
        }
      ]
    },
    {
      "cell_type": "code",
      "metadata": {
        "colab": {
          "base_uri": "https://localhost:8080/"
        },
        "id": "lmSe6Q9-uIVf",
        "outputId": "5d704d07-5660-4c75-a6fb-abb13a428298"
      },
      "source": [
        "test_sentiments"
      ],
      "execution_count": null,
      "outputs": [
        {
          "output_type": "execute_result",
          "data": {
            "text/plain": [
              "array(['Positive', 'Positive', 'Negative', ..., 'Positive', 'Positive',\n",
              "       'Positive'], dtype=object)"
            ]
          },
          "metadata": {
            "tags": []
          },
          "execution_count": 58
        }
      ]
    },
    {
      "cell_type": "code",
      "metadata": {
        "colab": {
          "base_uri": "https://localhost:8080/",
          "height": 275
        },
        "id": "THcFTs-0uIVf",
        "outputId": "f904c389-236e-4dd6-a571-9e3d11cea69a"
      },
      "source": [
        "from sklearn.metrics import confusion_matrix, classification_report\n",
        "\n",
        "labels = ['negative', 'positive']\n",
        "print(classification_report(test_sentiments, predictions))\n",
        "pd.DataFrame(confusion_matrix(test_sentiments, predictions), index=labels, columns=labels)"
      ],
      "execution_count": null,
      "outputs": [
        {
          "output_type": "stream",
          "text": [
            "              precision    recall  f1-score   support\n",
            "\n",
            "    Negative       0.39      0.97      0.55       614\n",
            "    Positive       0.99      0.67      0.80      2886\n",
            "\n",
            "    accuracy                           0.72      3500\n",
            "   macro avg       0.69      0.82      0.68      3500\n",
            "weighted avg       0.88      0.72      0.76      3500\n",
            "\n"
          ],
          "name": "stdout"
        },
        {
          "output_type": "execute_result",
          "data": {
            "text/html": [
              "<div>\n",
              "<style scoped>\n",
              "    .dataframe tbody tr th:only-of-type {\n",
              "        vertical-align: middle;\n",
              "    }\n",
              "\n",
              "    .dataframe tbody tr th {\n",
              "        vertical-align: top;\n",
              "    }\n",
              "\n",
              "    .dataframe thead th {\n",
              "        text-align: right;\n",
              "    }\n",
              "</style>\n",
              "<table border=\"1\" class=\"dataframe\">\n",
              "  <thead>\n",
              "    <tr style=\"text-align: right;\">\n",
              "      <th></th>\n",
              "      <th>negative</th>\n",
              "      <th>positive</th>\n",
              "    </tr>\n",
              "  </thead>\n",
              "  <tbody>\n",
              "    <tr>\n",
              "      <th>negative</th>\n",
              "      <td>594</td>\n",
              "      <td>20</td>\n",
              "    </tr>\n",
              "    <tr>\n",
              "      <th>positive</th>\n",
              "      <td>943</td>\n",
              "      <td>1943</td>\n",
              "    </tr>\n",
              "  </tbody>\n",
              "</table>\n",
              "</div>"
            ],
            "text/plain": [
              "          negative  positive\n",
              "negative       594        20\n",
              "positive       943      1943"
            ]
          },
          "metadata": {
            "tags": []
          },
          "execution_count": 59
        }
      ]
    }
  ]
}