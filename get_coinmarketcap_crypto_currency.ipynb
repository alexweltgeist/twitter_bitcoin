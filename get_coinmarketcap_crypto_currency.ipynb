{
 "cells": [
  {
   "cell_type": "code",
   "execution_count": 1,
   "metadata": {},
   "outputs": [],
   "source": [
    "import requests\n",
    "import pandas as pd\n",
    "import json\n",
    "import time\n",
    "from bs4 import BeautifulSoup"
   ]
  },
  {
   "cell_type": "code",
   "execution_count": 2,
   "metadata": {},
   "outputs": [],
   "source": [
    "# pip install python-coincap\n",
    "# from coincap import CoinCap\n",
    "# coincap = CoinCap()\n",
    "# coincap.get_front()\n",
    "# coincap.get_coin_detail('BTC')\n",
    "# coincap.get_coin_history('ETH', 1)"
   ]
  },
  {
   "cell_type": "code",
   "execution_count": 80,
   "metadata": {},
   "outputs": [],
   "source": [
    "def get_actual_crypto_price(crypto):\n",
    "    base_url = 'https://coinmarketcap.com'  \n",
    "    request = requests.get(base_url)\n",
    "    soup = BeautifulSoup(request.content, 'html.parser')\n",
    "    \n",
    "    data = soup.find('script', id=\"__NEXT_DATA__\", type=\"application/json\")\n",
    "    \n",
    "    coins = {}\n",
    "\n",
    "    coin_data = json.loads(data.contents[0])\n",
    "    listings = coin_data['props']['initialState']['cryptocurrency']['listingLatest']['data']\n",
    "    \n",
    "    for i in listings:\n",
    "        crypto_curr = i['name']\n",
    "        if crypto_curr.lower() == crypto.lower():\n",
    "            evaluate_price = i['quotes'][2]\n",
    "            #print(evaluate_price)\n",
    "            coins[str(i['id'])] = i['slug']\n",
    "            coins['currency'] = evaluate_price['name']\n",
    "            coins['actual_price'] = evaluate_price['price']\n",
    "            coins['percentChange24h'] = evaluate_price['percentChange24h']\n",
    "    return coins    "
   ]
  },
  {
   "cell_type": "code",
   "execution_count": 87,
   "metadata": {},
   "outputs": [
    {
     "data": {
      "text/plain": [
       "{'1': 'bitcoin',\n",
       " 'currency': 'USD',\n",
       " 'actual_price': 49054.55111438157,\n",
       " 'percentChange24h': -0.15853424}"
      ]
     },
     "execution_count": 87,
     "metadata": {},
     "output_type": "execute_result"
    }
   ],
   "source": [
    "get_actual_crypto_price('bitcoin')"
   ]
  },
  {
   "cell_type": "code",
   "execution_count": null,
   "metadata": {},
   "outputs": [],
   "source": []
  }
 ],
 "metadata": {
  "kernelspec": {
   "display_name": "Python 3",
   "language": "python",
   "name": "python3"
  },
  "language_info": {
   "codemirror_mode": {
    "name": "ipython",
    "version": 3
   },
   "file_extension": ".py",
   "mimetype": "text/x-python",
   "name": "python",
   "nbconvert_exporter": "python",
   "pygments_lexer": "ipython3",
   "version": "3.8.3"
  }
 },
 "nbformat": 4,
 "nbformat_minor": 4
}
