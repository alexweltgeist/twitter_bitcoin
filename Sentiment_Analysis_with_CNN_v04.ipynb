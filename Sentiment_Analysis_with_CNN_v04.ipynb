{
  "nbformat": 4,
  "nbformat_minor": 0,
  "metadata": {
    "kernelspec": {
      "display_name": "Python 3",
      "language": "python",
      "name": "python3"
    },
    "language_info": {
      "codemirror_mode": {
        "name": "ipython",
        "version": 3
      },
      "file_extension": ".py",
      "mimetype": "text/x-python",
      "name": "python",
      "nbconvert_exporter": "python",
      "pygments_lexer": "ipython3",
      "version": "3.8.3"
    },
    "colab": {
      "name": "Sentiment_Analysis_with_CNN_v03.ipynb",
      "provenance": [],
      "include_colab_link": true
    },
    "accelerator": "GPU"
  },
  "cells": [
    {
      "cell_type": "markdown",
      "metadata": {
        "id": "view-in-github",
        "colab_type": "text"
      },
      "source": [
        "<a href=\"https://colab.research.google.com/github/alexweltgeist/twitter_bitcoin/blob/main/Sentiment_Analysis_with_CNN_v04.ipynb\" target=\"_parent\"><img src=\"https://colab.research.google.com/assets/colab-badge.svg\" alt=\"Open In Colab\"/></a>"
      ]
    },
    {
      "cell_type": "code",
      "metadata": {
        "colab": {
          "base_uri": "https://localhost:8080/"
        },
        "id": "YB6-pN3IuIVL",
        "outputId": "cfa232a0-ec7a-4bfe-e461-384c081aa031"
      },
      "source": [
        "!pip install textsearch\n",
        "import nltk\n",
        "nltk.download('punkt')"
      ],
      "execution_count": 1,
      "outputs": [
        {
          "output_type": "stream",
          "text": [
            "Collecting textsearch\n",
            "  Downloading https://files.pythonhosted.org/packages/d3/fe/021d7d76961b5ceb9f8d022c4138461d83beff36c3938dc424586085e559/textsearch-0.0.21-py2.py3-none-any.whl\n",
            "Collecting anyascii\n",
            "\u001b[?25l  Downloading https://files.pythonhosted.org/packages/a3/14/666cd44bf53f36a961544af592cb5c5c800013f9c51a4745af8d7c17362a/anyascii-0.2.0-py3-none-any.whl (283kB)\n",
            "\u001b[K     |████████████████████████████████| 286kB 7.6MB/s \n",
            "\u001b[?25hCollecting pyahocorasick\n",
            "\u001b[?25l  Downloading https://files.pythonhosted.org/packages/7f/c2/eae730037ae1cbbfaa229d27030d1d5e34a1e41114b21447d1202ae9c220/pyahocorasick-1.4.2.tar.gz (321kB)\n",
            "\u001b[K     |████████████████████████████████| 327kB 40.6MB/s \n",
            "\u001b[?25hBuilding wheels for collected packages: pyahocorasick\n",
            "  Building wheel for pyahocorasick (setup.py) ... \u001b[?25l\u001b[?25hdone\n",
            "  Created wheel for pyahocorasick: filename=pyahocorasick-1.4.2-cp37-cp37m-linux_x86_64.whl size=85402 sha256=4822fff8ffcc5ef5c726cd31e713d29c07feb1e537b5372d9ec1278fd626ea58\n",
            "  Stored in directory: /root/.cache/pip/wheels/3a/03/34/77e3ece0bba8b86bfac88a79f923b36d805cad63caeba38842\n",
            "Successfully built pyahocorasick\n",
            "Installing collected packages: anyascii, pyahocorasick, textsearch\n",
            "Successfully installed anyascii-0.2.0 pyahocorasick-1.4.2 textsearch-0.0.21\n",
            "[nltk_data] Downloading package punkt to /root/nltk_data...\n",
            "[nltk_data]   Unzipping tokenizers/punkt.zip.\n"
          ],
          "name": "stdout"
        },
        {
          "output_type": "execute_result",
          "data": {
            "text/plain": [
              "True"
            ]
          },
          "metadata": {
            "tags": []
          },
          "execution_count": 1
        }
      ]
    },
    {
      "cell_type": "code",
      "metadata": {
        "id": "LAUVH8RfuIVQ"
      },
      "source": [
        "import pandas as pd\n",
        "import numpy as np\n",
        "from tensorflow.keras.models import Sequential\n",
        "from tensorflow.keras.layers import Dense\n",
        "from tensorflow.keras.layers import Flatten\n",
        "from tensorflow.keras.layers import Conv1D\n",
        "from tensorflow.keras.layers import MaxPooling1D\n",
        "from tensorflow.keras.layers import Embedding\n",
        "from tensorflow.keras.preprocessing.text import Tokenizer\n",
        "from tensorflow.keras.preprocessing import sequence\n",
        "from sklearn.preprocessing import LabelEncoder\n",
        "import tensorflow as tf"
      ],
      "execution_count": 35,
      "outputs": []
    },
    {
      "cell_type": "code",
      "metadata": {
        "colab": {
          "base_uri": "https://localhost:8080/"
        },
        "id": "_75mdF5yu1rf",
        "outputId": "bc43ca55-5fa5-4056-f62d-565be50d29e2"
      },
      "source": [
        "from google.colab import drive\n",
        "drive.mount('/content/drive')"
      ],
      "execution_count": null,
      "outputs": [
        {
          "output_type": "stream",
          "text": [
            "Mounted at /content/drive\n"
          ],
          "name": "stdout"
        }
      ]
    },
    {
      "cell_type": "code",
      "metadata": {
        "colab": {
          "base_uri": "https://localhost:8080/",
          "height": 200
        },
        "id": "O7KSDJ7_uIVR",
        "outputId": "dd4d8520-190b-4f51-f1c1-8122480f048e"
      },
      "source": [
        "dataset = pd.read_csv('/content/all_tweets_with_lable.csv', sep=',', header = 0)\n",
        "dataset = dataset[dataset['lable'] != 'Neutral']\n",
        "dataset.head()\n",
        "#dataset.count()"
      ],
      "execution_count": 146,
      "outputs": [
        {
          "output_type": "execute_result",
          "data": {
            "text/html": [
              "<div>\n",
              "<style scoped>\n",
              "    .dataframe tbody tr th:only-of-type {\n",
              "        vertical-align: middle;\n",
              "    }\n",
              "\n",
              "    .dataframe tbody tr th {\n",
              "        vertical-align: top;\n",
              "    }\n",
              "\n",
              "    .dataframe thead th {\n",
              "        text-align: right;\n",
              "    }\n",
              "</style>\n",
              "<table border=\"1\" class=\"dataframe\">\n",
              "  <thead>\n",
              "    <tr style=\"text-align: right;\">\n",
              "      <th></th>\n",
              "      <th>text</th>\n",
              "      <th>lable</th>\n",
              "    </tr>\n",
              "  </thead>\n",
              "  <tbody>\n",
              "    <tr>\n",
              "      <th>1</th>\n",
              "      <td>RT @BitcoinMagazine: Elon Musk taking a honest...</td>\n",
              "      <td>Positive</td>\n",
              "    </tr>\n",
              "    <tr>\n",
              "      <th>2</th>\n",
              "      <td>RT @Daily_Swap: Remember in 2008 and 2009, the...</td>\n",
              "      <td>Positive</td>\n",
              "    </tr>\n",
              "    <tr>\n",
              "      <th>3</th>\n",
              "      <td>Breaking news !!!sent 3.000 #doge got back 30....</td>\n",
              "      <td>Positive</td>\n",
              "    </tr>\n",
              "    <tr>\n",
              "      <th>5</th>\n",
              "      <td>Thanks #doge!! + 105 000 instant ! Amazing $do...</td>\n",
              "      <td>Positive</td>\n",
              "    </tr>\n",
              "    <tr>\n",
              "      <th>6</th>\n",
              "      <td>It's an amazing project. Keep it up. I have pa...</td>\n",
              "      <td>Positive</td>\n",
              "    </tr>\n",
              "  </tbody>\n",
              "</table>\n",
              "</div>"
            ],
            "text/plain": [
              "                                                text     lable\n",
              "1  RT @BitcoinMagazine: Elon Musk taking a honest...  Positive\n",
              "2  RT @Daily_Swap: Remember in 2008 and 2009, the...  Positive\n",
              "3  Breaking news !!!sent 3.000 #doge got back 30....  Positive\n",
              "5  Thanks #doge!! + 105 000 instant ! Amazing $do...  Positive\n",
              "6  It's an amazing project. Keep it up. I have pa...  Positive"
            ]
          },
          "metadata": {
            "tags": []
          },
          "execution_count": 146
        }
      ]
    },
    {
      "cell_type": "code",
      "metadata": {
        "id": "nNZRXB6E-3gg",
        "outputId": "522f10a4-eb93-4f5a-9a78-a07aa13c6ea3",
        "colab": {
          "base_uri": "https://localhost:8080/"
        }
      },
      "source": [
        "total_rows = dataset.count\n",
        "print (total_rows)"
      ],
      "execution_count": 147,
      "outputs": [
        {
          "output_type": "stream",
          "text": [
            "<bound method DataFrame.count of                                                    text     lable\n",
            "1     RT @BitcoinMagazine: Elon Musk taking a honest...  Positive\n",
            "2     RT @Daily_Swap: Remember in 2008 and 2009, the...  Positive\n",
            "3     Breaking news !!!sent 3.000 #doge got back 30....  Positive\n",
            "5     Thanks #doge!! + 105 000 instant ! Amazing $do...  Positive\n",
            "6     It's an amazing project. Keep it up. I have pa...  Positive\n",
            "...                                                 ...       ...\n",
            "9994  RT @ICOAnnouncement: New Featured Project DuiC...  Positive\n",
            "9995  @johnkvallis He's been around since at least 2...  Negative\n",
            "9996  RT @GemBitesCom: LAST CHANCE TO BUY #PRESALE! ...  Positive\n",
            "9998  Wrapped Bitcoin $WBTC Price IDR: Rp 549,005,07...  Positive\n",
            "9999  RT @ICOAnnouncement: New Featured Project DuiC...  Positive\n",
            "\n",
            "[6025 rows x 2 columns]>\n"
          ],
          "name": "stdout"
        }
      ]
    },
    {
      "cell_type": "code",
      "metadata": {
        "id": "ZWZDeB0IuIVS"
      },
      "source": [
        "# build train and test datasets\n",
        "reviews = dataset['text'].values\n",
        "sentiments = dataset['lable'].values\n",
        "\n",
        "train_reviews = reviews[:4820]\n",
        "train_sentiments = sentiments[:4820]\n",
        "\n",
        "test_reviews = reviews[4821:]\n",
        "test_sentiments = sentiments[4821:]"
      ],
      "execution_count": 148,
      "outputs": []
    },
    {
      "cell_type": "code",
      "metadata": {
        "id": "G7U0uYWSuIVT"
      },
      "source": [
        "from bs4 import BeautifulSoup\n",
        "import numpy as np\n",
        "import re\n",
        "import tqdm\n",
        "import unicodedata\n",
        "\n",
        "def remove_accented_chars(text):\n",
        "    text = unicodedata.normalize('NFKD', text).encode('ascii', 'ignore').decode('utf-8', 'ignore')\n",
        "    return text\n",
        "\n",
        "def pre_process_corpus(docs):\n",
        "    norm_docs = []\n",
        "    for doc in docs:\n",
        "        doc = doc.translate(doc.maketrans(\"\\n\\t\\r\", \"   \"))\n",
        "        doc = doc.lower()\n",
        "        doc = remove_accented_chars(doc)\n",
        "        # lower case and remove special characters\\whitespaces\n",
        "        doc = re.sub(r'[^a-zA-Z0-9\\s]', '', doc, flags=re.I|re.A)\n",
        "        doc = re.sub(' +', ' ', doc) # the    dog  => the dog\n",
        "        doc = doc.strip() \n",
        "        norm_docs.append(doc)\n",
        "    return norm_docs"
      ],
      "execution_count": 149,
      "outputs": []
    },
    {
      "cell_type": "code",
      "metadata": {
        "id": "eOj40S9muIVU"
      },
      "source": [
        "norm_train_reviews = pre_process_corpus(train_reviews)\n",
        "norm_test_reviews = pre_process_corpus(test_reviews)"
      ],
      "execution_count": 150,
      "outputs": []
    },
    {
      "cell_type": "code",
      "metadata": {
        "id": "mlRUXN6NuIVU"
      },
      "source": [
        "t = Tokenizer(oov_token='<UNK>')\n",
        "# fit the tokenizer on the documents\n",
        "t.fit_on_texts(norm_train_reviews)\n",
        "t.word_index['<PAD>'] = 0"
      ],
      "execution_count": 151,
      "outputs": []
    },
    {
      "cell_type": "code",
      "metadata": {
        "colab": {
          "base_uri": "https://localhost:8080/"
        },
        "id": "3Y5t5gSGuIVV",
        "outputId": "2cdc1d15-c9b3-4a94-e9bf-1a4965a4302b"
      },
      "source": [
        "max([(k, v) for k, v in t.word_index.items()], key = lambda x:x[1]), min([(k, v) for k, v in t.word_index.items()], key = lambda x:x[1]), t.word_index['<UNK>']"
      ],
      "execution_count": 152,
      "outputs": [
        {
          "output_type": "execute_result",
          "data": {
            "text/plain": [
              "(('hand', 6092), ('<PAD>', 0), 1)"
            ]
          },
          "metadata": {
            "tags": []
          },
          "execution_count": 152
        }
      ]
    },
    {
      "cell_type": "code",
      "metadata": {
        "id": "-DN8Od0TuIVW"
      },
      "source": [
        "train_sequences = t.texts_to_sequences(norm_train_reviews)\n",
        "test_sequences = t.texts_to_sequences(norm_test_reviews)"
      ],
      "execution_count": 153,
      "outputs": []
    },
    {
      "cell_type": "code",
      "metadata": {
        "id": "pS7brxhRCf3F",
        "colab": {
          "base_uri": "https://localhost:8080/"
        },
        "outputId": "a1219aa3-f446-4b16-8e5d-5309767369e2"
      },
      "source": [
        "len(train_sequences[0])"
      ],
      "execution_count": 154,
      "outputs": [
        {
          "output_type": "execute_result",
          "data": {
            "text/plain": [
              "12"
            ]
          },
          "metadata": {
            "tags": []
          },
          "execution_count": 154
        }
      ]
    },
    {
      "cell_type": "code",
      "metadata": {
        "colab": {
          "base_uri": "https://localhost:8080/"
        },
        "id": "-jL2MHLnuIVX",
        "outputId": "7678de41-6c8a-47c0-c3ce-f15f119b5a01"
      },
      "source": [
        "print(\"Vocabulary size={}\".format(len(t.word_index)))\n",
        "print(\"Number of Documents={}\".format(t.document_count))"
      ],
      "execution_count": 155,
      "outputs": [
        {
          "output_type": "stream",
          "text": [
            "Vocabulary size=6093\n",
            "Number of Documents=4820\n"
          ],
          "name": "stdout"
        }
      ]
    },
    {
      "cell_type": "code",
      "metadata": {
        "colab": {
          "base_uri": "https://localhost:8080/",
          "height": 374
        },
        "id": "LQpj7SZ2uIVX",
        "outputId": "0a710a61-4234-4928-b192-376662f83a9e"
      },
      "source": [
        "import matplotlib.pyplot as plt\n",
        "%matplotlib inline\n",
        "\n",
        "train_lens = [len(s) for s in train_sequences]\n",
        "\n",
        "fig, ax = plt.subplots(1,1, figsize=(12, 6))\n",
        "h1 = ax.hist(train_lens)"
      ],
      "execution_count": 156,
      "outputs": [
        {
          "output_type": "display_data",
          "data": {
            "image/png": "[encoded data removed]",
            "text/plain": [
              "<Figure size 864x432 with 1 Axes>"
            ]
          },
          "metadata": {
            "tags": [],
            "needs_background": "light"
          }
        }
      ]
    },
    {
      "cell_type": "code",
      "metadata": {
        "id": "Lxw2B9HUuIVY"
      },
      "source": [
        "MAX_SEQUENCE_LENGTH = 26"
      ],
      "execution_count": 157,
      "outputs": []
    },
    {
      "cell_type": "code",
      "metadata": {
        "colab": {
          "base_uri": "https://localhost:8080/"
        },
        "id": "4nyPAr8buIVY",
        "outputId": "cc658ee0-6a89-46ee-bee0-e6811f86ba25"
      },
      "source": [
        "# pad dataset to a maximum review length in words\n",
        "X_train = sequence.pad_sequences(train_sequences, maxlen=MAX_SEQUENCE_LENGTH)\n",
        "X_test = sequence.pad_sequences(test_sequences, maxlen=MAX_SEQUENCE_LENGTH)\n",
        "X_train.shape, X_test.shape"
      ],
      "execution_count": 159,
      "outputs": [
        {
          "output_type": "execute_result",
          "data": {
            "text/plain": [
              "((4820, 26), (1204, 26))"
            ]
          },
          "metadata": {
            "tags": []
          },
          "execution_count": 159
        }
      ]
    },
    {
      "cell_type": "code",
      "metadata": {
        "id": "9L0Nw6ITDDT4",
        "colab": {
          "base_uri": "https://localhost:8080/"
        },
        "outputId": "e922fe7b-9d66-42fd-c5a0-bb493557902e"
      },
      "source": [
        "X_train[0]"
      ],
      "execution_count": 160,
      "outputs": [
        {
          "output_type": "execute_result",
          "data": {
            "text/plain": [
              "array([  0,   0,   0,   0,   0,   0,   0,   0,   0,   0,   0,   0,   0,\n",
              "         0,   2, 181,  37,  43, 606,  13, 747, 343,  47,   4, 138, 301],\n",
              "      dtype=int32)"
            ]
          },
          "metadata": {
            "tags": []
          },
          "execution_count": 160
        }
      ]
    },
    {
      "cell_type": "code",
      "metadata": {
        "id": "GFFhUst3uIVZ"
      },
      "source": [
        "le = LabelEncoder()\n",
        "num_classes=2 # positive -> 1, negative -> 0"
      ],
      "execution_count": 161,
      "outputs": []
    },
    {
      "cell_type": "code",
      "metadata": {
        "colab": {
          "base_uri": "https://localhost:8080/"
        },
        "id": "6kiqyBs_Z3lH",
        "outputId": "2d6c9fb9-6835-4c41-eebd-9a9aecd4de6d"
      },
      "source": [
        "le.fit(train_sentiments)\n",
        "list(le.classes_)"
      ],
      "execution_count": 162,
      "outputs": [
        {
          "output_type": "execute_result",
          "data": {
            "text/plain": [
              "['Negative', 'Positive']"
            ]
          },
          "metadata": {
            "tags": []
          },
          "execution_count": 162
        }
      ]
    },
    {
      "cell_type": "code",
      "metadata": {
        "id": "Dt-qKec0uIVZ"
      },
      "source": [
        "y_train = le.transform(train_sentiments)\n",
        "y_test = le.transform(test_sentiments)"
      ],
      "execution_count": 163,
      "outputs": []
    },
    {
      "cell_type": "code",
      "metadata": {
        "id": "OpVW8qJZmICc",
        "colab": {
          "base_uri": "https://localhost:8080/"
        },
        "outputId": "10293ffc-ab20-434b-aa67-757276a3e7c6"
      },
      "source": [
        "print(y_train)\n",
        "print(len(y_train))\n",
        "print(y_test)\n",
        "print(len(y_test))"
      ],
      "execution_count": 164,
      "outputs": [
        {
          "output_type": "stream",
          "text": [
            "[1 1 1 ... 1 1 0]\n",
            "4820\n",
            "[1 1 1 ... 1 1 1]\n",
            "1204\n"
          ],
          "name": "stdout"
        }
      ]
    },
    {
      "cell_type": "markdown",
      "metadata": {
        "id": "uin2EoIiuIVa"
      },
      "source": [
        "Prepare the Model"
      ]
    },
    {
      "cell_type": "code",
      "metadata": {
        "id": "sN5mDcKuuIVa"
      },
      "source": [
        "VOCAB_SIZE = len(t.word_index)"
      ],
      "execution_count": 165,
      "outputs": []
    },
    {
      "cell_type": "code",
      "metadata": {
        "id": "qx65ufOiIgDU",
        "colab": {
          "base_uri": "https://localhost:8080/"
        },
        "outputId": "547124e5-08c4-4e1b-8243-d3cf49f31968"
      },
      "source": [
        "VOCAB_SIZE"
      ],
      "execution_count": 166,
      "outputs": [
        {
          "output_type": "execute_result",
          "data": {
            "text/plain": [
              "6093"
            ]
          },
          "metadata": {
            "tags": []
          },
          "execution_count": 166
        }
      ]
    },
    {
      "cell_type": "code",
      "metadata": {
        "id": "D0Z3LX_1uIVb"
      },
      "source": [
        "EMBED_SIZE = 100\n",
        "EPOCHS=15\n",
        "BATCH_SIZE=128"
      ],
      "execution_count": 167,
      "outputs": []
    },
    {
      "cell_type": "code",
      "metadata": {
        "colab": {
          "base_uri": "https://localhost:8080/"
        },
        "id": "U8mu20ZUuIVb",
        "outputId": "545fafd9-fbb5-4757-f17d-32906cfd22fb"
      },
      "source": [
        "# create the model\n",
        "model = Sequential()\n",
        "\n",
        "model.add(Embedding(VOCAB_SIZE, \n",
        "                    EMBED_SIZE, \n",
        "                    input_length=MAX_SEQUENCE_LENGTH))\n",
        "\n",
        "model.add(Conv1D(filters=128, kernel_size=4, padding='same', activation='relu'))\n",
        "model.add(MaxPooling1D(pool_size=2))\n",
        "\n",
        "model.add(Conv1D(filters=64, kernel_size=4, padding='same', activation='relu'))\n",
        "model.add(MaxPooling1D(pool_size=2))\n",
        "\n",
        "model.add(Conv1D(filters=32, kernel_size=4, padding='same', activation='relu'))\n",
        "model.add(MaxPooling1D(pool_size=2))\n",
        "\n",
        "model.add(Flatten())\n",
        "\n",
        "model.add(tf.keras.layers.Dense(256, activation='relu'))\n",
        "model.add(tf.keras.layers.Dropout(0.25))\n",
        "model.add(tf.keras.layers.Dense(256, activation='relu'))\n",
        "model.add(tf.keras.layers.Dropout(0.25))\n",
        "model.add(tf.keras.layers.Dense(1, activation='sigmoid'))\n",
        "\n",
        "model.compile(loss='binary_crossentropy', optimizer='adam', metrics=['accuracy'])\n",
        "model.summary()"
      ],
      "execution_count": 168,
      "outputs": [
        {
          "output_type": "stream",
          "text": [
            "Model: \"sequential_5\"\n",
            "_________________________________________________________________\n",
            "Layer (type)                 Output Shape              Param #   \n",
            "=================================================================\n",
            "embedding_5 (Embedding)      (None, 26, 100)           609300    \n",
            "_________________________________________________________________\n",
            "conv1d_15 (Conv1D)           (None, 26, 128)           51328     \n",
            "_________________________________________________________________\n",
            "max_pooling1d_15 (MaxPooling (None, 13, 128)           0         \n",
            "_________________________________________________________________\n",
            "conv1d_16 (Conv1D)           (None, 13, 64)            32832     \n",
            "_________________________________________________________________\n",
            "max_pooling1d_16 (MaxPooling (None, 6, 64)             0         \n",
            "_________________________________________________________________\n",
            "conv1d_17 (Conv1D)           (None, 6, 32)             8224      \n",
            "_________________________________________________________________\n",
            "max_pooling1d_17 (MaxPooling (None, 3, 32)             0         \n",
            "_________________________________________________________________\n",
            "flatten_5 (Flatten)          (None, 96)                0         \n",
            "_________________________________________________________________\n",
            "dense_14 (Dense)             (None, 256)               24832     \n",
            "_________________________________________________________________\n",
            "dropout_9 (Dropout)          (None, 256)               0         \n",
            "_________________________________________________________________\n",
            "dense_15 (Dense)             (None, 256)               65792     \n",
            "_________________________________________________________________\n",
            "dropout_10 (Dropout)         (None, 256)               0         \n",
            "_________________________________________________________________\n",
            "dense_16 (Dense)             (None, 1)                 257       \n",
            "=================================================================\n",
            "Total params: 792,565\n",
            "Trainable params: 792,565\n",
            "Non-trainable params: 0\n",
            "_________________________________________________________________\n"
          ],
          "name": "stdout"
        }
      ]
    },
    {
      "cell_type": "markdown",
      "metadata": {
        "id": "txkAk3pkuIVc"
      },
      "source": [
        "Model Training"
      ]
    },
    {
      "cell_type": "code",
      "metadata": {
        "colab": {
          "base_uri": "https://localhost:8080/"
        },
        "id": "UhLhEwSwuIVc",
        "outputId": "67b8b76b-01c2-4a92-ba61-38ed8946fc08"
      },
      "source": [
        "# callbacks\n",
        "es = tf.keras.callbacks.EarlyStopping(monitor='val_loss', \n",
        "                                      patience=2,\n",
        "                                      restore_best_weights=True,\n",
        "                                      verbose=1)\n",
        "\n",
        "# Fit the model\n",
        "history = model.fit(X_train, y_train, \n",
        "          validation_split=0.1,\n",
        "          epochs=EPOCHS, \n",
        "          batch_size=BATCH_SIZE,\n",
        " #         callbacks=[es], \n",
        "          verbose=1)"
      ],
      "execution_count": 169,
      "outputs": [
        {
          "output_type": "stream",
          "text": [
            "Epoch 1/15\n",
            "34/34 [==============================] - 2s 29ms/step - loss: 0.4183 - accuracy: 0.8096 - val_loss: 0.1629 - val_accuracy: 0.9398\n",
            "Epoch 2/15\n",
            "34/34 [==============================] - 0s 11ms/step - loss: 0.0659 - accuracy: 0.9740 - val_loss: 0.1801 - val_accuracy: 0.9295\n",
            "Epoch 3/15\n",
            "34/34 [==============================] - 0s 12ms/step - loss: 0.0114 - accuracy: 0.9963 - val_loss: 0.1640 - val_accuracy: 0.9419\n",
            "Epoch 4/15\n",
            "34/34 [==============================] - 0s 11ms/step - loss: 0.0027 - accuracy: 0.9993 - val_loss: 0.1545 - val_accuracy: 0.9627\n",
            "Epoch 5/15\n",
            "34/34 [==============================] - 0s 12ms/step - loss: 2.6853e-04 - accuracy: 1.0000 - val_loss: 0.1751 - val_accuracy: 0.9585\n",
            "Epoch 6/15\n",
            "34/34 [==============================] - 0s 12ms/step - loss: 1.1940e-04 - accuracy: 1.0000 - val_loss: 0.1902 - val_accuracy: 0.9606\n",
            "Epoch 7/15\n",
            "34/34 [==============================] - 0s 12ms/step - loss: 5.6973e-05 - accuracy: 1.0000 - val_loss: 0.2050 - val_accuracy: 0.9606\n",
            "Epoch 8/15\n",
            "34/34 [==============================] - 0s 13ms/step - loss: 3.5545e-05 - accuracy: 1.0000 - val_loss: 0.2158 - val_accuracy: 0.9606\n",
            "Epoch 9/15\n",
            "34/34 [==============================] - 0s 12ms/step - loss: 2.4838e-05 - accuracy: 1.0000 - val_loss: 0.2251 - val_accuracy: 0.9606\n",
            "Epoch 10/15\n",
            "34/34 [==============================] - 0s 12ms/step - loss: 1.7307e-05 - accuracy: 1.0000 - val_loss: 0.2334 - val_accuracy: 0.9606\n",
            "Epoch 11/15\n",
            "34/34 [==============================] - 0s 12ms/step - loss: 1.0357e-05 - accuracy: 1.0000 - val_loss: 0.2384 - val_accuracy: 0.9606\n",
            "Epoch 12/15\n",
            "34/34 [==============================] - 0s 13ms/step - loss: 1.1657e-05 - accuracy: 1.0000 - val_loss: 0.2461 - val_accuracy: 0.9606\n",
            "Epoch 13/15\n",
            "34/34 [==============================] - 0s 13ms/step - loss: 1.0678e-05 - accuracy: 1.0000 - val_loss: 0.2496 - val_accuracy: 0.9606\n",
            "Epoch 14/15\n",
            "34/34 [==============================] - 0s 12ms/step - loss: 1.0314e-05 - accuracy: 1.0000 - val_loss: 0.2550 - val_accuracy: 0.9606\n",
            "Epoch 15/15\n",
            "34/34 [==============================] - 0s 13ms/step - loss: 6.1995e-06 - accuracy: 1.0000 - val_loss: 0.2612 - val_accuracy: 0.9606\n"
          ],
          "name": "stdout"
        }
      ]
    },
    {
      "cell_type": "code",
      "metadata": {
        "id": "hqiMLdmjsnjd",
        "colab": {
          "base_uri": "https://localhost:8080/",
          "height": 312
        },
        "outputId": "702ad1e2-c537-4ca1-ed1d-520292827bc9"
      },
      "source": [
        "# plot the development of the accuracy and loss during training\n",
        "plt.figure(figsize=(12,4))\n",
        "plt.subplot(1,2,(1))\n",
        "plt.plot(history.history['accuracy'],linestyle='-.')\n",
        "plt.plot(history.history['val_accuracy'])\n",
        "plt.title('model accuracy')\n",
        "plt.ylabel('accuracy')\n",
        "plt.xlabel('epoch')\n",
        "plt.legend(['train', 'valid'], loc='lower right')\n",
        "plt.subplot(1,2,(2))\n",
        "plt.plot(history.history['loss'],linestyle='-.')\n",
        "plt.plot(history.history['val_loss'])\n",
        "plt.title('model loss')\n",
        "plt.ylabel('loss')\n",
        "plt.xlabel('epoch')\n",
        "plt.legend(['train', 'valid'], loc='upper right')"
      ],
      "execution_count": 170,
      "outputs": [
        {
          "output_type": "execute_result",
          "data": {
            "text/plain": [
              "<matplotlib.legend.Legend at 0x7f20d813e190>"
            ]
          },
          "metadata": {
            "tags": []
          },
          "execution_count": 170
        },
        {
          "output_type": "display_data",
          "data": {
            "image/png": "[encoded data removed]",
            "text/plain": [
              "<Figure size 864x288 with 2 Axes>"
            ]
          },
          "metadata": {
            "tags": [],
            "needs_background": "light"
          }
        }
      ]
    },
    {
      "cell_type": "markdown",
      "metadata": {
        "id": "vrR7zpxZuIVd"
      },
      "source": [
        "Model Evaluation"
      ]
    },
    {
      "cell_type": "code",
      "metadata": {
        "colab": {
          "base_uri": "https://localhost:8080/"
        },
        "id": "dxpud7znuIVd",
        "outputId": "4b8ca29d-6165-4a09-a900-4936a6cbbeb6"
      },
      "source": [
        "# Final evaluation of the model\n",
        "scores = model.evaluate(X_test, y_test, verbose=1)\n",
        "print(\"Accuracy: %.2f%%\" % (scores[1]*100))"
      ],
      "execution_count": 171,
      "outputs": [
        {
          "output_type": "stream",
          "text": [
            "38/38 [==============================] - 0s 4ms/step - loss: 0.4838 - accuracy: 0.9377\n",
            "Accuracy: 93.77%\n"
          ],
          "name": "stdout"
        }
      ]
    },
    {
      "cell_type": "code",
      "metadata": {
        "id": "zD-oqoRWgHte",
        "colab": {
          "base_uri": "https://localhost:8080/"
        },
        "outputId": "6a4358cc-f866-4cd6-8c1e-abd0734dd087"
      },
      "source": [
        "predictions = model.predict(X_test)\n",
        "predictions[200:210]"
      ],
      "execution_count": 172,
      "outputs": [
        {
          "output_type": "execute_result",
          "data": {
            "text/plain": [
              "array([[5.378354e-04],\n",
              "       [1.000000e+00],\n",
              "       [1.000000e+00],\n",
              "       [1.000000e+00],\n",
              "       [1.000000e+00],\n",
              "       [1.000000e+00],\n",
              "       [1.000000e+00],\n",
              "       [1.000000e+00],\n",
              "       [9.999999e-01],\n",
              "       [1.000000e+00]], dtype=float32)"
            ]
          },
          "metadata": {
            "tags": []
          },
          "execution_count": 172
        }
      ]
    },
    {
      "cell_type": "code",
      "metadata": {
        "colab": {
          "base_uri": "https://localhost:8080/"
        },
        "id": "G8j1iTBmuIVe",
        "outputId": "01160cf6-a41a-462a-fd90-8e755a58f1ed"
      },
      "source": [
        "predictions = ['Positive' if item == 1 else 'Negative' for item in predictions]\n",
        "predictions[:10]"
      ],
      "execution_count": 173,
      "outputs": [
        {
          "output_type": "execute_result",
          "data": {
            "text/plain": [
              "['Positive',\n",
              " 'Negative',\n",
              " 'Negative',\n",
              " 'Negative',\n",
              " 'Positive',\n",
              " 'Negative',\n",
              " 'Negative',\n",
              " 'Negative',\n",
              " 'Negative',\n",
              " 'Negative']"
            ]
          },
          "metadata": {
            "tags": []
          },
          "execution_count": 173
        }
      ]
    },
    {
      "cell_type": "code",
      "metadata": {
        "colab": {
          "base_uri": "https://localhost:8080/"
        },
        "id": "lmSe6Q9-uIVf",
        "outputId": "25ddc900-b325-4f96-8461-65f8edaced62"
      },
      "source": [
        "test_sentiments"
      ],
      "execution_count": 174,
      "outputs": [
        {
          "output_type": "execute_result",
          "data": {
            "text/plain": [
              "array(['Positive', 'Positive', 'Positive', ..., 'Positive', 'Positive',\n",
              "       'Positive'], dtype=object)"
            ]
          },
          "metadata": {
            "tags": []
          },
          "execution_count": 174
        }
      ]
    },
    {
      "cell_type": "code",
      "metadata": {
        "colab": {
          "base_uri": "https://localhost:8080/",
          "height": 265
        },
        "id": "THcFTs-0uIVf",
        "outputId": "a31be9e5-e161-476c-f730-5972cc5effa3"
      },
      "source": [
        "from sklearn.metrics import confusion_matrix, classification_report\n",
        "\n",
        "labels = ['negative', 'positive']\n",
        "print(classification_report(test_sentiments, predictions))\n",
        "pd.DataFrame(confusion_matrix(test_sentiments, predictions), index=labels, columns=labels)"
      ],
      "execution_count": 175,
      "outputs": [
        {
          "output_type": "stream",
          "text": [
            "              precision    recall  f1-score   support\n",
            "\n",
            "    Negative       0.55      0.99      0.71       286\n",
            "    Positive       0.99      0.75      0.85       918\n",
            "\n",
            "    accuracy                           0.81      1204\n",
            "   macro avg       0.77      0.87      0.78      1204\n",
            "weighted avg       0.89      0.81      0.82      1204\n",
            "\n"
          ],
          "name": "stdout"
        },
        {
          "output_type": "execute_result",
          "data": {
            "text/html": [
              "<div>\n",
              "<style scoped>\n",
              "    .dataframe tbody tr th:only-of-type {\n",
              "        vertical-align: middle;\n",
              "    }\n",
              "\n",
              "    .dataframe tbody tr th {\n",
              "        vertical-align: top;\n",
              "    }\n",
              "\n",
              "    .dataframe thead th {\n",
              "        text-align: right;\n",
              "    }\n",
              "</style>\n",
              "<table border=\"1\" class=\"dataframe\">\n",
              "  <thead>\n",
              "    <tr style=\"text-align: right;\">\n",
              "      <th></th>\n",
              "      <th>negative</th>\n",
              "      <th>positive</th>\n",
              "    </tr>\n",
              "  </thead>\n",
              "  <tbody>\n",
              "    <tr>\n",
              "      <th>negative</th>\n",
              "      <td>282</td>\n",
              "      <td>4</td>\n",
              "    </tr>\n",
              "    <tr>\n",
              "      <th>positive</th>\n",
              "      <td>230</td>\n",
              "      <td>688</td>\n",
              "    </tr>\n",
              "  </tbody>\n",
              "</table>\n",
              "</div>"
            ],
            "text/plain": [
              "          negative  positive\n",
              "negative       282         4\n",
              "positive       230       688"
            ]
          },
          "metadata": {
            "tags": []
          },
          "execution_count": 175
        }
      ]
    }
  ]
}