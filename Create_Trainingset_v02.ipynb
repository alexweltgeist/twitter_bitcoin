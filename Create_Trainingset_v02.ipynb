{
  "nbformat": 4,
  "nbformat_minor": 0,
  "metadata": {
    "colab": {
      "name": "Create_Trainingset_v02.ipynb",
      "provenance": [],
      "authorship_tag": "ABX9TyPNsGFeNQch4QrXjLmelSOT",
      "include_colab_link": true
    },
    "kernelspec": {
      "name": "python3",
      "display_name": "Python 3"
    },
    "language_info": {
      "name": "python"
    }
  },
  "cells": [
    {
      "cell_type": "markdown",
      "metadata": {
        "id": "view-in-github",
        "colab_type": "text"
      },
      "source": [
        "<a href=\"https://colab.research.google.com/github/alexweltgeist/twitter_bitcoin/blob/main/Create_Trainingset_v02.ipynb\" target=\"_parent\"><img src=\"https://colab.research.google.com/assets/colab-badge.svg\" alt=\"Open In Colab\"/></a>"
      ]
    },
    {
      "cell_type": "markdown",
      "metadata": {
        "id": "ff5EZK-8Jm73"
      },
      "source": [
        "# **Create Trainingset for CNN**\n",
        "\n",
        "Download Twetts, apply sentiment via Textblob and lable the tweets"
      ]
    },
    {
      "cell_type": "code",
      "metadata": {
        "colab": {
          "base_uri": "https://localhost:8080/"
        },
        "id": "mN45s1TWBkB7",
        "outputId": "cdafc0c7-0da6-4c63-f836-a2b87f4abcc7"
      },
      "source": [
        "!pip install twython    \n",
        "!pip install textblob\n",
        "!pip install tweet-preprocessor"
      ],
      "execution_count": 25,
      "outputs": [
        {
          "output_type": "stream",
          "text": [
            "Requirement already satisfied: twython in /usr/local/lib/python3.7/dist-packages (3.8.2)\n",
            "Requirement already satisfied: requests>=2.1.0 in /usr/local/lib/python3.7/dist-packages (from twython) (2.23.0)\n",
            "Requirement already satisfied: requests-oauthlib>=0.4.0 in /usr/local/lib/python3.7/dist-packages (from twython) (1.3.0)\n",
            "Requirement already satisfied: certifi>=2017.4.17 in /usr/local/lib/python3.7/dist-packages (from requests>=2.1.0->twython) (2021.5.30)\n",
            "Requirement already satisfied: chardet<4,>=3.0.2 in /usr/local/lib/python3.7/dist-packages (from requests>=2.1.0->twython) (3.0.4)\n",
            "Requirement already satisfied: idna<3,>=2.5 in /usr/local/lib/python3.7/dist-packages (from requests>=2.1.0->twython) (2.10)\n",
            "Requirement already satisfied: urllib3!=1.25.0,!=1.25.1,<1.26,>=1.21.1 in /usr/local/lib/python3.7/dist-packages (from requests>=2.1.0->twython) (1.24.3)\n",
            "Requirement already satisfied: oauthlib>=3.0.0 in /usr/local/lib/python3.7/dist-packages (from requests-oauthlib>=0.4.0->twython) (3.1.1)\n",
            "Requirement already satisfied: textblob in /usr/local/lib/python3.7/dist-packages (0.15.3)\n",
            "Requirement already satisfied: nltk>=3.1 in /usr/local/lib/python3.7/dist-packages (from textblob) (3.2.5)\n",
            "Requirement already satisfied: six in /usr/local/lib/python3.7/dist-packages (from nltk>=3.1->textblob) (1.15.0)\n",
            "Requirement already satisfied: tweet-preprocessor in /usr/local/lib/python3.7/dist-packages (0.6.0)\n"
          ],
          "name": "stdout"
        }
      ]
    },
    {
      "cell_type": "code",
      "metadata": {
        "id": "0rO4XSlX_Fmu"
      },
      "source": [
        "from twython import TwythonStreamer\n",
        "from twython import Twython\n",
        "import pandas as pd\n",
        "from textblob import TextBlob\n",
        "import preprocessor as p"
      ],
      "execution_count": 10,
      "outputs": []
    },
    {
      "cell_type": "code",
      "metadata": {
        "id": "eXmZDoQl_Jrx"
      },
      "source": [
        "# My key and secret\n",
        "CONSUMER_KEY = 'XP9WEtNESINs3LfjkyFYLIN8l'\n",
        "CONSUMER_SECRET = 'VeVcYCxyGNJHAq5mwzJZXiAfioXeAajhrcQBYcU1uDjPShqmCS'\n",
        "ACCESS_TOKEN = '1126001584830390272-JnhR5hrvd0YX9tnIpBTj3uNkhx3tsW'\n",
        "ACCESS_TOKEN_SECRET = 'yLXT7Tcsr0Xx7T7ldUfyHs8Eltrro18gVWnBm0Xo2Q54m'"
      ],
      "execution_count": 11,
      "outputs": []
    },
    {
      "cell_type": "code",
      "metadata": {
        "id": "jYIftGmn_L_b"
      },
      "source": [
        "# Functions for Streaming\n",
        "del(tweets, twitter_df)\n",
        "tweets = [] \n",
        "\n",
        "class MyStreamer(TwythonStreamer):\n",
        "    def on_success(self, data):\n",
        "        \"\"\"\n",
        "        data in Python dict representing a tweet\n",
        "        \"\"\"\n",
        "        # We only want to collect English-language tweets\n",
        "        if data.get('lang') == 'en':\n",
        "            tweets.append(data)\n",
        "            if (len(tweets) % 10) == 0:\n",
        "              print(f\"received tweet #{len(tweets)}\")\n",
        "\n",
        "\t\t# Stop when we've collected enough\n",
        "        if len(tweets) >= 1000:\n",
        "            self.disconnect()\n",
        "        return tweets\n",
        "\n",
        "    def on_error(self, status_code, data):\n",
        "        print(status_code, data)\n",
        "        self.disconnect()\n"
      ],
      "execution_count": 12,
      "outputs": []
    },
    {
      "cell_type": "code",
      "metadata": {
        "id": "90cmXYoE_P61"
      },
      "source": [
        "# Functions for data extraction\n",
        "def tcontent(stream):\n",
        "    # Preprocessing options used for p.clean() below\n",
        "    p.set_options(p.OPT.URL, p.OPT.EMOJI, p.OPT.SMILEY)\n",
        "    textList = []\n",
        "    for tweet in tweets:   \n",
        "        textList.append(p.clean(tweet['text']))\n",
        "    return textList\n",
        "\n",
        "def sentiment(stream):\n",
        "    dateList = []\n",
        "    for tweet in tweets:   \n",
        "        dateList.append(TextBlob(tweet['text']).sentiment.polarity)\n",
        "    return dateList\n",
        "\n",
        "def tnames(stream):\n",
        "    nameList = []\n",
        "    for tweet in tweets:   \n",
        "        nameList.append(tweet['user']['name'])\n",
        "    return nameList\n",
        "\n",
        "def tdate(stream):\n",
        "    dateList = []\n",
        "    for tweet in tweets:   \n",
        "        dateList.append(tweet['created_at'])\n",
        "    return dateList\n",
        "\n",
        "\n",
        "# Define the filter criteria\n",
        "selection = ['Bitcoin', 'bitcoin']\n"
      ],
      "execution_count": 16,
      "outputs": []
    },
    {
      "cell_type": "code",
      "metadata": {
        "id": "VDq1psrW_S8l"
      },
      "source": [
        "# Consume public tweets with selection and create pandas dataframe\n",
        "stream = MyStreamer(CONSUMER_KEY, CONSUMER_SECRET,\n",
        "\t\t\t\t\tACCESS_TOKEN, ACCESS_TOKEN_SECRET)\n",
        "\n",
        "stream.statuses.filter(track=selection)\n"
      ],
      "execution_count": null,
      "outputs": []
    },
    {
      "cell_type": "code",
      "metadata": {
        "id": "_4GqIALVGWjr"
      },
      "source": [
        "twitter_df = pd.concat([pd.Series(tcontent(tweets)), \n",
        "                        pd.Series(sentiment(tweets))],\n",
        "                        axis=1)\n",
        "twitter_df.columns = ['text', 'sentiment']\n",
        "\n",
        "# Get rid of Rows with no Polarity:\n",
        "# twitter_df = twitter_df[twitter_df['sentiment'] != 0]\n"
      ],
      "execution_count": 17,
      "outputs": []
    },
    {
      "cell_type": "code",
      "metadata": {
        "id": "H2SD0oAzIil5"
      },
      "source": [
        "twitter_df.head(5)"
      ],
      "execution_count": null,
      "outputs": []
    },
    {
      "cell_type": "code",
      "metadata": {
        "id": "F8wLxhWtBu4e"
      },
      "source": [
        "def create_lable(polarity):\n",
        "    polarity = float(polarity)\n",
        "    if polarity < 0:\n",
        "        return \"Negative\"\n",
        "    elif polarity == 0:\n",
        "        return \"Neutral\"\n",
        "    else:\n",
        "        return \"Positive\""
      ],
      "execution_count": 21,
      "outputs": []
    },
    {
      "cell_type": "code",
      "metadata": {
        "id": "YpYXihE_G4mj"
      },
      "source": [
        "# Convert from Sentiment to Lable\n",
        "twitter_df['lable'] = twitter_df.sentiment.apply(create_lable)\n",
        "twitter_df = twitter_df.drop(['sentiment'], axis=1)\n"
      ],
      "execution_count": 22,
      "outputs": []
    },
    {
      "cell_type": "code",
      "metadata": {
        "colab": {
          "base_uri": "https://localhost:8080/",
          "height": 205
        },
        "id": "9q8o_JV3IrVO",
        "outputId": "8d96eca5-c22d-46e6-f443-2be93cf81d3e"
      },
      "source": [
        "twitter_df.head(5)"
      ],
      "execution_count": 23,
      "outputs": [
        {
          "output_type": "execute_result",
          "data": {
            "text/html": [
              "<div>\n",
              "<style scoped>\n",
              "    .dataframe tbody tr th:only-of-type {\n",
              "        vertical-align: middle;\n",
              "    }\n",
              "\n",
              "    .dataframe tbody tr th {\n",
              "        vertical-align: top;\n",
              "    }\n",
              "\n",
              "    .dataframe thead th {\n",
              "        text-align: right;\n",
              "    }\n",
              "</style>\n",
              "<table border=\"1\" class=\"dataframe\">\n",
              "  <thead>\n",
              "    <tr style=\"text-align: right;\">\n",
              "      <th></th>\n",
              "      <th>text</th>\n",
              "      <th>lable</th>\n",
              "    </tr>\n",
              "  </thead>\n",
              "  <tbody>\n",
              "    <tr>\n",
              "      <th>0</th>\n",
              "      <td>RT @ShibInformer: Update: 506,500 $SHIB holder...</td>\n",
              "      <td>Neutral</td>\n",
              "    </tr>\n",
              "    <tr>\n",
              "      <th>1</th>\n",
              "      <td>Perfect Brings Makeup Into The Connected Econo...</td>\n",
              "      <td>Positive</td>\n",
              "    </tr>\n",
              "    <tr>\n",
              "      <th>2</th>\n",
              "      <td>RT @gate_io: CMO @marietatibouet recently spok...</td>\n",
              "      <td>Neutral</td>\n",
              "    </tr>\n",
              "    <tr>\n",
              "      <th>3</th>\n",
              "      <td>RT @maxkeiser: #Bitcoin and the @michael_saylo...</td>\n",
              "      <td>Neutral</td>\n",
              "    </tr>\n",
              "    <tr>\n",
              "      <th>4</th>\n",
              "      <td>#Bitcoin Mining Difficulty Falls to January Le...</td>\n",
              "      <td>Neutral</td>\n",
              "    </tr>\n",
              "  </tbody>\n",
              "</table>\n",
              "</div>"
            ],
            "text/plain": [
              "                                                text     lable\n",
              "0  RT @ShibInformer: Update: 506,500 $SHIB holder...   Neutral\n",
              "1  Perfect Brings Makeup Into The Connected Econo...  Positive\n",
              "2  RT @gate_io: CMO @marietatibouet recently spok...   Neutral\n",
              "3  RT @maxkeiser: #Bitcoin and the @michael_saylo...   Neutral\n",
              "4  #Bitcoin Mining Difficulty Falls to January Le...   Neutral"
            ]
          },
          "metadata": {
            "tags": []
          },
          "execution_count": 23
        }
      ]
    },
    {
      "cell_type": "code",
      "metadata": {
        "id": "hXwttCuq_dVJ"
      },
      "source": [
        "# Save dataframe \n",
        "path_to_save = \"/content\"\n",
        "twitter_df.to_csv(path_to_save + '/all_tweets_with_lable.csv', sep=\",\", index=False)                             \n"
      ],
      "execution_count": 24,
      "outputs": []
    }
  ]
}